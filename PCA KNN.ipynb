{
 "cells": [
  {
   "cell_type": "markdown",
   "metadata": {},
   "source": [
    "# **Comparing Preprocessing Methods for KNN Classification**"
   ]
  },
  {
   "cell_type": "markdown",
   "metadata": {},
   "source": [
    "A quick demonstration of common preprocessing techniques applied to the `Biomechanical Features of Orthopedic Patients Dataset` for binary class prediction using the `KNeighborsClassifier`. Original feature values were processed using dimensionality reduction (PCA), scaling (StandardScaler), both, or none. These preprocessing transformations influence how distance is measured which is crucial for algorithms such as KNN. GridsearchCV was applied for determining the optimal model and distance measurement for each preprocessing pipeline. The resulting test accuracies were used for evaluation and comparison."
   ]
  },
  {
   "cell_type": "markdown",
   "metadata": {},
   "source": [
    "## Results"
   ]
  },
  {
   "cell_type": "markdown",
   "metadata": {},
   "source": [
    "The distance-based KNeighborsClassifier proved sufficiently accurate at identifying the binary target class given the baseline Proportional Chance Criterion (PCC). For this specific dataset, however, it was found that preprocessing techniques such as scaling and dimensionality reduction did not yield a significantly higher test accuracy when compared to the original dataset. Dimensionality reduction usually yields more significant improvements when applied to high dimension datasets, while scaling tends to add value when features differ greatly in their magnitude and units. Ultimately, the best way to validate whether one method or another is more suitable is to empirically test and compare results on a case-to-case basis."
   ]
  },
  {
   "cell_type": "markdown",
   "metadata": {},
   "source": [
    "**PCC: 0.563**\n",
    "\n",
    "**PCCx1.25: 0.704**\n",
    "\n",
    "\n",
    "| Name        | Dist Metric| n_neighbors | Test Accuracy | Train Accuracy | Test Precision | Test Recall |\n",
    "|-------------|------------|-------------|---------------|----------------|----------------|-------------|\n",
    "| Orig        | euclidean  | 17          | 0.855         | 0.863          | 0.739          | 0.85        |\n",
    "| PCA         | euclidean  | 5           | 0.839         | 0.859          | 0.708          | 0.85        |\n",
    "| Scaled      | manhattan  | 6           | 0.790         | 0.839          | 0.706          | 0.60        |\n",
    "| Scaled+PCA  | manhattan  | 28          | **0.887**     | 0.835          | 0.810          | 0.85        |"
   ]
  },
  {
   "cell_type": "markdown",
   "metadata": {},
   "source": [
    "# Execution"
   ]
  },
  {
   "cell_type": "markdown",
   "metadata": {},
   "source": [
    "## Libraries"
   ]
  },
  {
   "cell_type": "code",
   "execution_count": 2,
   "metadata": {},
   "outputs": [],
   "source": [
    "import pandas as pd\n",
    "import numpy as np\n",
    "import matplotlib.pyplot as plt\n",
    "from sklearn.model_selection import train_test_split, GridSearchCV\n",
    "from sklearn.neighbors import KNeighborsClassifier\n",
    "from sklearn.metrics import accuracy_score, precision_score, recall_score\n",
    "from sklearn.preprocessing import StandardScaler, LabelEncoder\n",
    "from sklearn.decomposition import PCA"
   ]
  },
  {
   "cell_type": "markdown",
   "metadata": {},
   "source": [
    "## Data Loading and Preprocessing"
   ]
  },
  {
   "cell_type": "markdown",
   "metadata": {},
   "source": [
    "**Source**: [Kaggle](https://www.kaggle.com/datasets/uciml/biomechanical-features-of-orthopedic-patients)\n",
    "\n",
    "Each patient is represented in the data set by six biomechanical attributes derived from the shape and orientation of the pelvis and lumbar spine (each one is a column):\n",
    "\n",
    "* pelvic incidence\n",
    "* pelvic tilt\n",
    "* lumbar lordosis angle\n",
    "* sacral slope\n",
    "* pelvic radius\n",
    "* grade of spondylolisthesis\n",
    "\n",
    "The target column is a binary class of either \"Normal\" or \"Abnormal\"."
   ]
  },
  {
   "cell_type": "code",
   "execution_count": 3,
   "metadata": {},
   "outputs": [
    {
     "data": {
      "text/html": [
       "<div>\n",
       "<style scoped>\n",
       "    .dataframe tbody tr th:only-of-type {\n",
       "        vertical-align: middle;\n",
       "    }\n",
       "\n",
       "    .dataframe tbody tr th {\n",
       "        vertical-align: top;\n",
       "    }\n",
       "\n",
       "    .dataframe thead th {\n",
       "        text-align: right;\n",
       "    }\n",
       "</style>\n",
       "<table border=\"1\" class=\"dataframe\">\n",
       "  <thead>\n",
       "    <tr style=\"text-align: right;\">\n",
       "      <th></th>\n",
       "      <th>pelvic_incidence</th>\n",
       "      <th>pelvic_tilt numeric</th>\n",
       "      <th>lumbar_lordosis_angle</th>\n",
       "      <th>sacral_slope</th>\n",
       "      <th>pelvic_radius</th>\n",
       "      <th>degree_spondylolisthesis</th>\n",
       "      <th>class</th>\n",
       "    </tr>\n",
       "  </thead>\n",
       "  <tbody>\n",
       "    <tr>\n",
       "      <th>78</th>\n",
       "      <td>67.412538</td>\n",
       "      <td>17.442797</td>\n",
       "      <td>60.144640</td>\n",
       "      <td>49.969741</td>\n",
       "      <td>111.123970</td>\n",
       "      <td>33.157646</td>\n",
       "      <td>Abnormal</td>\n",
       "    </tr>\n",
       "    <tr>\n",
       "      <th>244</th>\n",
       "      <td>63.026300</td>\n",
       "      <td>27.336240</td>\n",
       "      <td>51.605017</td>\n",
       "      <td>35.690060</td>\n",
       "      <td>114.506608</td>\n",
       "      <td>7.439870</td>\n",
       "      <td>Normal</td>\n",
       "    </tr>\n",
       "    <tr>\n",
       "      <th>185</th>\n",
       "      <td>91.468741</td>\n",
       "      <td>24.508177</td>\n",
       "      <td>84.620272</td>\n",
       "      <td>66.960564</td>\n",
       "      <td>117.307897</td>\n",
       "      <td>52.623047</td>\n",
       "      <td>Abnormal</td>\n",
       "    </tr>\n",
       "  </tbody>\n",
       "</table>\n",
       "</div>"
      ],
      "text/plain": [
       "     pelvic_incidence  pelvic_tilt numeric  lumbar_lordosis_angle  \\\n",
       "78          67.412538            17.442797              60.144640   \n",
       "244         63.026300            27.336240              51.605017   \n",
       "185         91.468741            24.508177              84.620272   \n",
       "\n",
       "     sacral_slope  pelvic_radius  degree_spondylolisthesis     class  \n",
       "78      49.969741     111.123970                 33.157646  Abnormal  \n",
       "244     35.690060     114.506608                  7.439870    Normal  \n",
       "185     66.960564     117.307897                 52.623047  Abnormal  "
      ]
     },
     "execution_count": 3,
     "metadata": {},
     "output_type": "execute_result"
    }
   ],
   "source": [
    "# Read and Prepare\n",
    "data = pd.read_csv('column_2C_weka.csv')\n",
    "data.drop_duplicates(inplace=True)\n",
    "data.dropna(inplace=True)\n",
    "X, y = data.iloc[:, :-1], data.iloc[:, -1]\n",
    "y = LabelEncoder().fit_transform(y)\n",
    "\n",
    "data.sample(n=3, random_state=1)"
   ]
  },
  {
   "cell_type": "markdown",
   "metadata": {},
   "source": [
    "## Data Preprocessing"
   ]
  },
  {
   "cell_type": "code",
   "execution_count": 4,
   "metadata": {},
   "outputs": [],
   "source": [
    "# Split, Original Data\n",
    "X_train_orig, X_test_orig, y_train, y_test = train_test_split(X, y, test_size=0.2, random_state=1, stratify=y)\n",
    "\n",
    "# Data Transformations\n",
    "## Scaled Feature Data\n",
    "scaler = StandardScaler()\n",
    "X_train_scaled = scaler.fit_transform(X_train_orig)\n",
    "X_test_scaled =scaler.transform(X_test_orig)\n",
    "\n",
    "## Dimension Reduced Data\n",
    "pca = PCA(n_components=4)\n",
    "X_train_reduced = pca.fit_transform(X_train_orig)\n",
    "X_test_reduced = pca.transform(X_test_orig)\n",
    "\n",
    "# Scaled and Dimension Reduced Data\n",
    "pca = PCA(n_components=4)\n",
    "X_train_scaled_reduced = pca.fit_transform(X_train_scaled)\n",
    "X_test_scaled_reduced = pca.transform(X_test_scaled)\n",
    "\n",
    "# Store\n",
    "original = [\"Orig\", X_train_orig, X_test_orig]\n",
    "reduced = [\"PCA\", X_train_reduced, X_test_reduced]\n",
    "scaled = [\"Scaled\", X_train_scaled, X_test_scaled]\n",
    "reduced_scaled = [\"Scaled+PCA\", X_train_scaled_reduced, X_test_scaled_reduced]\n",
    "datasets = [original, reduced, scaled, reduced_scaled]\n"
   ]
  },
  {
   "cell_type": "markdown",
   "metadata": {},
   "source": [
    "## Hyperparameter Tuning"
   ]
  },
  {
   "cell_type": "code",
   "execution_count": 8,
   "metadata": {},
   "outputs": [],
   "source": [
    "results = []\n",
    "param_grid = {\n",
    "    'n_neighbors': range(5, 31),\n",
    "    'metric': ['euclidean', 'manhattan', 'minkowski']\n",
    "}\n",
    "\n",
    "for name, X_train, X_test in datasets:\n",
    "    model = KNeighborsClassifier()\n",
    "    grid_search = GridSearchCV(model, param_grid, cv=3, verbose=0, scoring='accuracy')\n",
    "    grid_search.fit(X_train, y_train)\n",
    "    model = grid_search.best_estimator_\n",
    "\n",
    "    y_pred = model.predict(X_test)\n",
    "    result = {\n",
    "        \"name\": name,\n",
    "        \"params\": grid_search.best_params_,\n",
    "        \"test_accuracy\": accuracy_score(y_test, y_pred),\n",
    "        \"train_accuracy\": grid_search.best_score_,\n",
    "        \"test_precision\": precision_score(y_test, y_pred),\n",
    "        \"test_recall\": recall_score(y_test, y_pred),\n",
    "    }\n",
    "    results.append(result)"
   ]
  },
  {
   "cell_type": "markdown",
   "metadata": {},
   "source": [
    "## Evaluation"
   ]
  },
  {
   "cell_type": "markdown",
   "metadata": {},
   "source": [
    "**PCC Baseline**"
   ]
  },
  {
   "cell_type": "code",
   "execution_count": 9,
   "metadata": {},
   "outputs": [
    {
     "name": "stdout",
     "output_type": "stream",
     "text": [
      "PCC: 0.563\n",
      "PCC*1.25: 0.704\n"
     ]
    }
   ],
   "source": [
    "pcc = np.sum([np.mean(y==i)**2 for i  in set(y)])\n",
    "print(f\"PCC: {pcc:.3f}\")\n",
    "print(f\"PCC*1.25: {pcc*1.25:.3f}\")"
   ]
  },
  {
   "cell_type": "markdown",
   "metadata": {},
   "source": [
    "**Model Evaluation**"
   ]
  },
  {
   "cell_type": "code",
   "execution_count": 10,
   "metadata": {},
   "outputs": [
    {
     "data": {
      "text/html": [
       "<div>\n",
       "<style scoped>\n",
       "    .dataframe tbody tr th:only-of-type {\n",
       "        vertical-align: middle;\n",
       "    }\n",
       "\n",
       "    .dataframe tbody tr th {\n",
       "        vertical-align: top;\n",
       "    }\n",
       "\n",
       "    .dataframe thead th {\n",
       "        text-align: right;\n",
       "    }\n",
       "</style>\n",
       "<table border=\"1\" class=\"dataframe\">\n",
       "  <thead>\n",
       "    <tr style=\"text-align: right;\">\n",
       "      <th></th>\n",
       "      <th>name</th>\n",
       "      <th>params</th>\n",
       "      <th>test_accuracy</th>\n",
       "      <th>train_accuracy</th>\n",
       "      <th>test_precision</th>\n",
       "      <th>test_recall</th>\n",
       "    </tr>\n",
       "  </thead>\n",
       "  <tbody>\n",
       "    <tr>\n",
       "      <th>0</th>\n",
       "      <td>Orig</td>\n",
       "      <td>{'metric': 'euclidean', 'n_neighbors': 17}</td>\n",
       "      <td>0.854839</td>\n",
       "      <td>0.862817</td>\n",
       "      <td>0.739130</td>\n",
       "      <td>0.85</td>\n",
       "    </tr>\n",
       "    <tr>\n",
       "      <th>1</th>\n",
       "      <td>PCA</td>\n",
       "      <td>{'metric': 'euclidean', 'n_neighbors': 5}</td>\n",
       "      <td>0.838710</td>\n",
       "      <td>0.858850</td>\n",
       "      <td>0.708333</td>\n",
       "      <td>0.85</td>\n",
       "    </tr>\n",
       "    <tr>\n",
       "      <th>2</th>\n",
       "      <td>Scaled</td>\n",
       "      <td>{'metric': 'manhattan', 'n_neighbors': 6}</td>\n",
       "      <td>0.790323</td>\n",
       "      <td>0.838819</td>\n",
       "      <td>0.705882</td>\n",
       "      <td>0.60</td>\n",
       "    </tr>\n",
       "    <tr>\n",
       "      <th>3</th>\n",
       "      <td>Scaled+PCA</td>\n",
       "      <td>{'metric': 'manhattan', 'n_neighbors': 28}</td>\n",
       "      <td>0.887097</td>\n",
       "      <td>0.834705</td>\n",
       "      <td>0.809524</td>\n",
       "      <td>0.85</td>\n",
       "    </tr>\n",
       "  </tbody>\n",
       "</table>\n",
       "</div>"
      ],
      "text/plain": [
       "         name                                      params  test_accuracy  \\\n",
       "0        Orig  {'metric': 'euclidean', 'n_neighbors': 17}       0.854839   \n",
       "1         PCA   {'metric': 'euclidean', 'n_neighbors': 5}       0.838710   \n",
       "2      Scaled   {'metric': 'manhattan', 'n_neighbors': 6}       0.790323   \n",
       "3  Scaled+PCA  {'metric': 'manhattan', 'n_neighbors': 28}       0.887097   \n",
       "\n",
       "   train_accuracy  test_precision  test_recall  \n",
       "0        0.862817        0.739130         0.85  \n",
       "1        0.858850        0.708333         0.85  \n",
       "2        0.838819        0.705882         0.60  \n",
       "3        0.834705        0.809524         0.85  "
      ]
     },
     "execution_count": 10,
     "metadata": {},
     "output_type": "execute_result"
    }
   ],
   "source": [
    "pd.DataFrame(results)"
   ]
  },
  {
   "cell_type": "markdown",
   "metadata": {},
   "source": [
    "## **Acknowledgements**\n",
    "*The original dataset was downloaded from UCI ML repository:* <br>\n",
    "*Lichman, M. (2013). UCI Machine Learning Repository [http://archive.ics.uci.edu/ml]. Irvine, CA: University of California, School of Information and Computer Science*\n",
    "<br>\n",
    "*Files were converted to CSV.*\n",
    "\n",
    "Data retrieved from: <br>\n",
    "[UCI Machine Learning Repository: Biomechanical Features of Orthopedic Patients Dataset](https://www.kaggle.com/datasets/uciml/biomechanical-features-of-orthopedic-patients) (Accessed May 10, 2024).\n"
   ]
  }
 ],
 "metadata": {
  "kernelspec": {
   "display_name": "jojie",
   "language": "python",
   "name": "python3"
  },
  "language_info": {
   "codemirror_mode": {
    "name": "ipython",
    "version": 3
   },
   "file_extension": ".py",
   "mimetype": "text/x-python",
   "name": "python",
   "nbconvert_exporter": "python",
   "pygments_lexer": "ipython3",
   "version": "3.11.9"
  }
 },
 "nbformat": 4,
 "nbformat_minor": 2
}
